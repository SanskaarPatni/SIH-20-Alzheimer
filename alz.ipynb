{
 "cells": [
  {
   "cell_type": "markdown",
   "metadata": {},
   "source": [
    "# one player multiple data analysis and email"
   ]
  },
  {
   "cell_type": "code",
   "execution_count": 172,
   "metadata": {},
   "outputs": [
    {
     "name": "stdout",
     "output_type": "stream",
     "text": [
      "['arjun', 'kshitiz']\n"
     ]
    }
   ],
   "source": [
    "from matplotlib import pyplot as plt\n",
    "import seaborn as sn\n",
    "import yagmail\n",
    "from firebase import firebase  #firebase data retrieving code #live\n",
    "firebase = firebase.FirebaseApplication('https://hackalz.firebaseio.com/', None)\n",
    "result = firebase.get('/data', None)\n",
    "result # type(result)=dict, JSON formate\n",
    "p = list(result.values())\n",
    "#absprint(p)\n",
    "\n",
    "\n",
    "# print(p)\n",
    "player_names = list(result.keys())\n",
    "# print(player_names)\n",
    "#--------------------------------------------------------\n",
    "player_ages = []\n",
    "player_genders = []\n",
    "player_genetics = []\n",
    "player_edu = []\n",
    "player_genderb=[]\n",
    "\n",
    "\n",
    "\n",
    "#---------------------------------------------\n",
    "scoresheet = []\n",
    "indiv_scores = []\n",
    "names = []\n",
    "for i in p:\n",
    "    data = list(i.values())\n",
    "    \n",
    "    #print(data[0])\n",
    "    #print(data[0][\"age\"])\n",
    "    age = data[0][\"age\"]\n",
    "    if int(age) >=60:\n",
    "        agescore = 36\n",
    "    elif 40 <= int(age) < 60:\n",
    "        agescore = 60\n",
    "    else: \n",
    "        agescore = 90\n",
    "    \n",
    "    gender =  data[0][\"gender\"]\n",
    "    \n",
    "    if gender == \"F\" : \n",
    "        genderscore = 18\n",
    "    else:\n",
    "        genderscore = 30\n",
    "    \n",
    "    genetic =  data[0][\"genetic\"]\n",
    "    \n",
    "    if genetic == \"Y\":\n",
    "        geneticscore = 0\n",
    "    else: \n",
    "        geneticscore = 60\n",
    "        \n",
    "    edu =  data[0][\"education\"]\n",
    "    if edu == \"Less than High school\":\n",
    "        eduscore = 15\n",
    "    elif edu == \"High school\":\n",
    "        eduscore = 25\n",
    "    else:\n",
    "        eduscore = 35\n",
    "        \n",
    "    exe =  data[0][\"exercise\"]\n",
    "    if exe == \"Daily\":\n",
    "        exescore = 15\n",
    "    elif exe == \"Monthly\":\n",
    "        exescore = 25\n",
    "    elif exe == \"Weekly\":\n",
    "        exescore = 25\n",
    "    else:\n",
    "        exescore = 35\n",
    "    \n",
    "#print(\"------\")\n",
    "# print(agescore, genderscore, geneticscore , eduscore, exescore )\n",
    "    personal_score = agescore +  genderscore +  geneticscore +  eduscore +  exescore \n",
    "    \n",
    "    \n",
    "    \n",
    "        \n",
    "    \n",
    "        \n",
    "    \n",
    "    \n",
    "        \n",
    "    \n",
    "    \n",
    "    \n",
    "    #-----------------------------------\n",
    "    if len(data) > 12:\n",
    "        scores = []\n",
    "        #team size greater than 11\n",
    "        attempts = int(len(data)/11)\n",
    "        \n",
    "        for j in range(attempts):\n",
    "            score = 0\n",
    "            for k in range(1,12):\n",
    "                #print(int(data[k + (j*12)][\"score\"]))\n",
    "                score+= data[k+j*12][\"score\"]\n",
    "            scores.append(score + personal_score)\n",
    "        indiv_scores.append(scores)\n",
    "        names.append(data[0][\"name\"])\n",
    "        #print(scores)\n",
    "        \n",
    "        \n",
    "indiv_scores\n",
    "print(names)    \n",
    "\n",
    "\n",
    "#scoresheet\n",
    "\n",
    "\n",
    " "
   ]
  },
  {
   "cell_type": "code",
   "execution_count": 169,
   "metadata": {},
   "outputs": [
    {
     "data": {
      "image/png": "[encoded data removed]",
      "text/plain": [
       "<Figure size 432x288 with 1 Axes>"
      ]
     },
     "metadata": {
      "needs_background": "light"
     },
     "output_type": "display_data"
    }
   ],
   "source": [
    "colours=['-r','-o','-b','-g']\n",
    "for k in range(len(indiv_scores)):    \n",
    "    attempts=[]\n",
    "    for i in range(len(indiv_scores[k])):\n",
    "        attempts.append(i+1)\n",
    "   # print(attempts)\n",
    "   # print(indiv_scores[k])\n",
    "    f=plt.plot(attempts,indiv_scores[k])\n",
    "    plt.xlabel('Attempts')\n",
    "    plt.ylabel('Score')\n",
    "    plt.title('Performance')\n",
    "    plt.scatter(attempts,indiv_scores[k], c='y')\n",
    "    plt.plot(attempts, indiv_scores[k], colours[k], label=names[k])\n",
    "    plt.legend()"
   ]
  },
  {
   "cell_type": "code",
   "execution_count": 171,
   "metadata": {},
   "outputs": [
    {
     "name": "stdout",
     "output_type": "stream",
     "text": [
      "Danger\n",
      "safe\n"
     ]
    }
   ],
   "source": [
    "for i in range(len(indiv_scores)):\n",
    "    if(max(indiv_scores[i])-min(indiv_scores[i])>43):\n",
    "        print(\"Danger\")\n",
    "        yag = yagmail.SMTP('aegis.interns@gmail.com', 'interns_123').send('patnisanskaar@gmail.com', 'subject', 'please check with your neurologist')\n",
    "    else:\n",
    "        print(\"safe\")\n",
    "        yag = yagmail.SMTP('aegis.interns@gmail.com', 'interns_123').send('patnisanskaar@gmail.com', 'subject', 'no concern for now')"
   ]
  },
  {
   "cell_type": "code",
   "execution_count": null,
   "metadata": {},
   "outputs": [],
   "source": []
  }
 ],
 "metadata": {
  "kernelspec": {
   "display_name": "Python 3",
   "language": "python",
   "name": "python3"
  },
  "language_info": {
   "codemirror_mode": {
    "name": "ipython",
    "version": 3
   },
   "file_extension": ".py",
   "mimetype": "text/x-python",
   "name": "python",
   "nbconvert_exporter": "python",
   "pygments_lexer": "ipython3",
   "version": "3.7.3"
  }
 },
 "nbformat": 4,
 "nbformat_minor": 2
}
