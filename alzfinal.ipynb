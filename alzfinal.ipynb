{
 "cells": [
  {
   "cell_type": "code",
   "execution_count": 19,
   "metadata": {
    "colab": {
     "base_uri": "https://localhost:8080/",
     "height": 363
    },
    "colab_type": "code",
    "id": "cQwZnTa10dNF",
    "outputId": "d2cb7bae-2e31-424f-b36c-0de795af5745"
   },
   "outputs": [],
   "source": [
    "from matplotlib import pyplot as plt\n",
    "import seaborn as sn\n",
    "\n",
    "from firebase import firebase  #firebase data retrieving code #live\n",
    "firebase = firebase.FirebaseApplication('https://hackalz.firebaseio.com/', None)\n",
    "result = firebase.get('/data', None)\n",
    "result # type(result)=dict, JSON formate\n",
    "p = list(result.values())\n",
    "#absprint(p)\n",
    "\n",
    "\n",
    "# print(p)\n",
    "player_names = list(result.keys())\n",
    "#l4\n",
    "# print(player_names)\n",
    "#--------------------------------------------------------\n",
    "player_ages = []\n",
    "\n",
    "player_genders = []\n",
    "player_genetics = []\n",
    "player_edu = []\n",
    "player_genderb=[]\n",
    "\n",
    "\n",
    "\n",
    "#---------------------------------------------\n",
    "for i in p:\n",
    "    data = list(i.values())\n",
    "#     print(data)\n",
    "#     print(\"------\")\n",
    "    #print(len(data))\n",
    "    \n",
    "\n",
    "\n",
    "#---------------------------------------------\n",
    "# for i in p:\n",
    "    \n",
    "#     data = list(i.values())\n",
    "#     #print((data[0][\"age\"]))\n",
    "#     #print(data[0]['gender'])\n",
    "#     player_ages.append(int(data[0][\"age\"]))\n",
    "#     player_genders.append(data[0][\"gender\"])\n",
    "#     player_genetics.append(data[0][\"genetic\"])\n",
    "#     player_edu.append(data[0][\"education\"])\n",
    "    \n",
    "\n",
    "# print(player_ages)\n",
    "# print(player_genders)\n",
    "for i in player_genders:\n",
    "    if(i=='M'):\n",
    "        player_genderb.append(1)\n",
    "    elif(i=='F'):\n",
    "        player_genderb.append(0)\n",
    "    else:\n",
    "        player_genderb.append(-1)\n",
    "    #print(l5)\n",
    "\n",
    "# l5 = list(l3[0].values())\n",
    "# type(l5)\n",
    "# l6 = l5[0]\n",
    "# l6\n",
    "# l7 = l6['age']"
   ]
  },
  {
   "cell_type": "code",
   "execution_count": 20,
   "metadata": {},
   "outputs": [
    {
     "name": "stdout",
     "output_type": "stream",
     "text": [
      "---\n",
      "---\n",
      "---\n"
     ]
    },
    {
     "data": {
      "text/plain": [
       "[287, 232, 242, 359, 204]"
      ]
     },
     "execution_count": 20,
     "metadata": {},
     "output_type": "execute_result"
    }
   ],
   "source": [
    "from matplotlib import pyplot as plt\n",
    "import seaborn as sn\n",
    "\n",
    "from firebase import firebase  #firebase data retrieving code #live\n",
    "firebase = firebase.FirebaseApplication('https://hackalz.firebaseio.com/', None)\n",
    "result = firebase.get('/data', None)\n",
    "result # type(result)=dict, JSON formate\n",
    "p = list(result.values())\n",
    "#absprint(p)\n",
    "\n",
    "\n",
    "# print(p)\n",
    "player_names = list(result.keys())\n",
    "# print(player_names)\n",
    "#--------------------------------------------------------\n",
    "player_ages = []\n",
    "player_genders = []\n",
    "player_genetics = []\n",
    "player_edu = []\n",
    "player_genderb=[]\n",
    "\n",
    "\n",
    "\n",
    "#---------------------------------------------\n",
    "scoresheet = []\n",
    "for i in p:\n",
    "    data = list(i.values())\n",
    "    \n",
    "    #print(data[0])\n",
    "    #print(data[0][\"age\"])\n",
    "    player_ages.append(int(data[0]['age']))\n",
    "    player_genders.append(data[0]['gender'])\n",
    "    age = data[0][\"age\"]\n",
    "    if int(age) >=60:\n",
    "        agescore = 36\n",
    "    elif 40 <= int(age) < 60:\n",
    "        agescore = 60\n",
    "    else: \n",
    "        agescore = 90\n",
    "    \n",
    "    gender =  data[0][\"gender\"]\n",
    "    \n",
    "    if gender == \"F\" : \n",
    "        genderscore = 18\n",
    "    else:\n",
    "        genderscore = 30\n",
    "    \n",
    "    genetic =  data[0][\"genetic\"]\n",
    "    \n",
    "    if genetic == \"Y\":\n",
    "        geneticscore = 0\n",
    "    else: \n",
    "        geneticscore = 60\n",
    "        \n",
    "    edu =  data[0][\"education\"]\n",
    "    if edu == \"Less than High school\":\n",
    "        eduscore = 15\n",
    "    elif edu == \"High school\":\n",
    "        eduscore = 25\n",
    "    else:\n",
    "        eduscore = 35\n",
    "        \n",
    "    exe =  data[0][\"exercise\"]\n",
    "    if exe == \"Daily\":\n",
    "        exescore = 15\n",
    "    elif exe == \"Monthly\":\n",
    "        exescore = 25\n",
    "    elif exe == \"Weekly\":\n",
    "        exescore = 25\n",
    "    else:\n",
    "        exescore = 35\n",
    "    \n",
    "    #print(\"------\")\n",
    "    #print(agescore, genderscore, geneticscore , eduscore, exescore )\n",
    "    personal_score = agescore +  genderscore +  geneticscore +  eduscore +  exescore \n",
    "    \n",
    "    \n",
    "    \n",
    "        \n",
    "    \n",
    "        \n",
    "    \n",
    "    \n",
    "        \n",
    "    \n",
    "    \n",
    "    \n",
    "    #-----------------------------------\n",
    "    if len(data) > 12:\n",
    "        scores = []\n",
    "        #team size greater than 11\n",
    "        attempts = int(len(data)/11)\n",
    "        \n",
    "        for j in range(attempts):\n",
    "            score = 0\n",
    "            for k in range(1,12):\n",
    "                #print(int(data[k + (j*12)][\"score\"]))\n",
    "                score+= data[k+j*12][\"score\"]\n",
    "            scores.append(score)\n",
    "    else:\n",
    "        score = 0\n",
    "        scores = []\n",
    "        for j in range(1,11):\n",
    "            try:\n",
    "                #print(data[j][\"score\"])\n",
    "                score+= data[j][\"score\"]\n",
    "                #print(score)\n",
    "            except:\n",
    "                break\n",
    "        print(\"---\")\n",
    "        scores.append(score)\n",
    "        \n",
    "        \n",
    "    \n",
    "    \n",
    "    if len(scores)>1:\n",
    "        sum = 0\n",
    "        for each in scores:\n",
    "            sum+=each\n",
    "        sum = sum + len(scores)*personal_score//len(scores)\n",
    "        scoresheet.append(sum)\n",
    "    else:\n",
    "        scoresheet.append(scores[0] + personal_score)\n",
    "        \n",
    "scoresheet      \n",
    "        \n",
    "        \n",
    "    \n",
    "        \n",
    "\n",
    "            \n",
    "            "
   ]
  },
  {
   "cell_type": "code",
   "execution_count": 21,
   "metadata": {
    "colab": {},
    "colab_type": "code",
    "id": "q047wIMG0dNM",
    "outputId": "f3a26904-c5b7-4fb3-d4f9-da3ed635bd0b"
   },
   "outputs": [
    {
     "data": {
      "image/png": "[encoded data removed]",
      "text/plain": [
       "<Figure size 432x288 with 1 Axes>"
      ]
     },
     "metadata": {
      "needs_background": "light"
     },
     "output_type": "display_data"
    }
   ],
   "source": [
    "import seaborn as sns\n",
    "fig = plt.bar(player_names, scoresheet, color=sns.color_palette(\"rocket\"))\n",
    "\n"
   ]
  },
  {
   "cell_type": "code",
   "execution_count": 22,
   "metadata": {
    "colab": {},
    "colab_type": "code",
    "id": "RmP0jiYj0dNS",
    "outputId": "ad8dc026-55f2-436b-a54a-789d02a3a3fe"
   },
   "outputs": [
    {
     "data": {
      "image/png": "[encoded data removed]",
      "text/plain": [
       "<Figure size 432x288 with 1 Axes>"
      ]
     },
     "metadata": {
      "needs_background": "light"
     },
     "output_type": "display_data"
    }
   ],
   "source": [
    "fig1 = plt.bar(player_names, player_ages, color=sns.color_palette(\"rocket\"))"
   ]
  },
  {
   "cell_type": "code",
   "execution_count": 23,
   "metadata": {
    "colab": {},
    "colab_type": "code",
    "id": "JM4IN1210dNV",
    "outputId": "8e69e875-aa90-4f47-de7f-fb6bf68bf11c"
   },
   "outputs": [],
   "source": [
    "# total_time=[]\n",
    "# total_score=[]\n",
    "# age = []\n",
    "# print(player_names)\n",
    "# for i in range(len(player_names)):\n",
    "#     l5 = list(p[i].values()) #player values\n",
    "#     l6 = list(l5[0].values()) #\n",
    "#     l8=[]\n",
    "#     for i in range(1,len(l5)):\n",
    "#         l7 = list(l5[i].values())\n",
    "#         l8.append(l7)\n",
    "#     totalscore=0\n",
    "#     totaltime=0\n",
    "#     for i in range(len(l8)):\n",
    "#         totalscore+= int(l8[i][0])\n",
    "#         totaltime+= int(l8[i][1])\n",
    "#     total_time.append(totaltime)\n",
    "#     total_score.append(totalscore)\n",
    "# # print(\"totalscore = \",totalscore)\n",
    "# # print(\"totaltime = \",totaltime)\n",
    "# total_score,total_time\n"
   ]
  },
  {
   "cell_type": "code",
   "execution_count": 24,
   "metadata": {
    "colab": {},
    "colab_type": "code",
    "id": "1ZGz_teP0dNY",
    "outputId": "dd38580f-81ba-413e-d43b-ed423a3b38a5"
   },
   "outputs": [
    {
     "data": {
      "image/png": "[encoded data removed]",
      "text/plain": [
       "<Figure size 1080x360 with 1 Axes>"
      ]
     },
     "metadata": {
      "needs_background": "light"
     },
     "output_type": "display_data"
    }
   ],
   "source": [
    "fig, ax = plt.subplots()\n",
    "fig.set_size_inches(15, 5)\n",
    "sns.countplot(scoresheet,palette=\"rocket\")\n",
    "ax.set_xlabel('Score', fontsize=15)\n",
    "ax.set_ylabel('Count', fontsize=15)\n",
    "ax.set_title('Score distribution', fontsize=15)\n",
    "sns.despine()"
   ]
  },
  {
   "cell_type": "code",
   "execution_count": 25,
   "metadata": {
    "colab": {},
    "colab_type": "code",
    "id": "gf1WKn7P0dNa",
    "outputId": "9e7bcea2-58b3-4d68-aee9-35447aa5d039"
   },
   "outputs": [
    {
     "data": {
      "image/png": "[encoded data removed]",
      "text/plain": [
       "<Figure size 1080x360 with 1 Axes>"
      ]
     },
     "metadata": {
      "needs_background": "light"
     },
     "output_type": "display_data"
    }
   ],
   "source": [
    "fig, ax = plt.subplots()\n",
    "fig.set_size_inches(15, 5)\n",
    "plt.scatter(player_names,scoresheet)\n",
    "ax.set_xlabel('player names', fontsize=15)\n",
    "ax.set_ylabel('Score', fontsize=15)\n",
    "ax.set_title('Score distribution', fontsize=15)\n",
    "sns.despine()"
   ]
  },
  {
   "cell_type": "code",
   "execution_count": 27,
   "metadata": {
    "colab": {},
    "colab_type": "code",
    "id": "Li7PAnaZ0dNe",
    "outputId": "e7de5d08-829e-4e31-a9ae-5b1a20eb99df"
   },
   "outputs": [
    {
     "data": {
      "image/png": "[encoded data removed]",
      "text/plain": [
       "<Figure size 432x288 with 1 Axes>"
      ]
     },
     "metadata": {},
     "output_type": "display_data"
    }
   ],
   "source": [
    "labels = 'Male', 'Female','Others'\n",
    "sizes = [player_genders.count('M'),player_genders.count('F'),player_genders.count('O')]\n",
    "explode = (0.05,0.05,0.05)  # only \"explode\" the 2nd slice (i.e. 'Hogs')\n",
    "\n",
    "fig1, ax1 = plt.subplots()\n",
    "ax1.pie(sizes, explode=explode, labels=labels, autopct='%1.1f%%',\n",
    "        shadow=True, startangle=90)\n",
    "ax1.axis('equal')  # Equal aspect ratio ensures that pie is drawn as a circle.\n",
    "\n",
    "plt.show()"
   ]
  },
  {
   "cell_type": "code",
   "execution_count": null,
   "metadata": {},
   "outputs": [],
   "source": []
  },
  {
   "cell_type": "code",
   "execution_count": null,
   "metadata": {},
   "outputs": [],
   "source": []
  }
 ],
 "metadata": {
  "colab": {
   "name": "alz3.ipynb",
   "provenance": []
  },
  "kernelspec": {
   "display_name": "Python 3",
   "language": "python",
   "name": "python3"
  },
  "language_info": {
   "codemirror_mode": {
    "name": "ipython",
    "version": 3
   },
   "file_extension": ".py",
   "mimetype": "text/x-python",
   "name": "python",
   "nbconvert_exporter": "python",
   "pygments_lexer": "ipython3",
   "version": "3.7.3"
  }
 },
 "nbformat": 4,
 "nbformat_minor": 1
}
